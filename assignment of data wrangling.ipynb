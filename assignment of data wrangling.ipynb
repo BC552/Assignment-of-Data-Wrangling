{
 "cells": [
  {
   "cell_type": "code",
   "execution_count": 7,
   "id": "a51e97b8",
   "metadata": {},
   "outputs": [],
   "source": [
    "import numpy as np\n"
   ]
  },
  {
   "cell_type": "code",
   "execution_count": 8,
   "id": "5a86f45c",
   "metadata": {},
   "outputs": [
    {
     "data": {
      "text/plain": [
       "array([0., 0., 0., 0., 1., 0., 0., 0., 0., 0.])"
      ]
     },
     "execution_count": 8,
     "metadata": {},
     "output_type": "execute_result"
    }
   ],
   "source": [
    "#1. Create a null vector of size 10 but the fifth value which is 1.\n",
    "x = np.zeros(10)\n",
    "x[4] = 1\n",
    "x"
   ]
  },
  {
   "cell_type": "code",
   "execution_count": 9,
   "id": "ea6cdfa6",
   "metadata": {},
   "outputs": [
    {
     "data": {
      "text/plain": [
       "array([10, 11, 12, 13, 14, 15, 16, 17, 18, 19, 20, 21, 22, 23, 24, 25, 26,\n",
       "       27, 28, 29, 30, 31, 32, 33, 34, 35, 36, 37, 38, 39, 40, 41, 42, 43,\n",
       "       44, 45, 46, 47, 48, 49])"
      ]
     },
     "execution_count": 9,
     "metadata": {},
     "output_type": "execute_result"
    }
   ],
   "source": [
    "#2. Create a vector with values ranging from 10 to 49.\n",
    "\n",
    "a = np.arange(10,50)\n",
    "a"
   ]
  },
  {
   "cell_type": "code",
   "execution_count": 10,
   "id": "53beabc2",
   "metadata": {},
   "outputs": [
    {
     "data": {
      "text/plain": [
       "array([[0, 1, 2],\n",
       "       [3, 4, 5],\n",
       "       [6, 7, 8]])"
      ]
     },
     "execution_count": 10,
     "metadata": {},
     "output_type": "execute_result"
    }
   ],
   "source": [
    "#3. Create a 3x3 matrix with values ranging from 0 to 8\n",
    "\n",
    "b = np.arange(0,9).reshape(3,3)\n",
    "b"
   ]
  },
  {
   "cell_type": "code",
   "execution_count": 11,
   "id": "8dce2d05",
   "metadata": {},
   "outputs": [
    {
     "data": {
      "text/plain": [
       "(array([0, 1, 4], dtype=int64),)"
      ]
     },
     "execution_count": 11,
     "metadata": {},
     "output_type": "execute_result"
    }
   ],
   "source": [
    "#4. Find indices of non-zero elements from [1,2,0,0,4,0]\n",
    "\n",
    "l = [1,2,0,0,4,0]\n",
    "c = np.nonzero(l)\n",
    "c"
   ]
  },
  {
   "cell_type": "code",
   "execution_count": 12,
   "id": "45306813",
   "metadata": {},
   "outputs": [
    {
     "name": "stdout",
     "output_type": "stream",
     "text": [
      "[[0.5663112  0.23442145 0.1382253  0.60180235 0.44426726 0.75451276\n",
      "  0.39268915 0.03508469 0.96849859 0.54975503]\n",
      " [0.2833356  0.05069984 0.83721284 0.80631621 0.34765211 0.69319835\n",
      "  0.32825719 0.57632105 0.71894673 0.62488234]\n",
      " [0.02108083 0.41166793 0.84902964 0.19614241 0.14376975 0.40524844\n",
      "  0.04996885 0.80059931 0.93518639 0.16478978]\n",
      " [0.70209972 0.21819919 0.77292365 0.93084804 0.7181474  0.01176586\n",
      "  0.31660313 0.00621354 0.74718763 0.18405889]\n",
      " [0.1994797  0.22926688 0.37566842 0.1499903  0.86105981 0.26887662\n",
      "  0.58854638 0.44234996 0.7348309  0.47121072]\n",
      " [0.39677095 0.85884303 0.41789989 0.69428321 0.33047462 0.72544554\n",
      "  0.97938    0.619056   0.66715833 0.74764166]\n",
      " [0.51402926 0.86712746 0.588079   0.92853748 0.42748872 0.12055151\n",
      "  0.64412368 0.0710726  0.21004413 0.03164041]\n",
      " [0.139971   0.62106976 0.31308904 0.18694604 0.14259102 0.4930397\n",
      "  0.55298079 0.47778494 0.0588119  0.55836812]\n",
      " [0.70359471 0.72009045 0.36655583 0.83779508 0.28029062 0.90239253\n",
      "  0.66988811 0.42022618 0.2025801  0.68685348]\n",
      " [0.81623339 0.50889624 0.75060113 0.36925358 0.74909694 0.48902094\n",
      "  0.95139726 0.14801035 0.07281258 0.27041874]]\n",
      "Minimum 0.00621353584691553\n",
      "Maximum 0.9793800029779621\n"
     ]
    }
   ],
   "source": [
    "#5. Create a 10x10 array with random values and find the minimum and maximum values.\n",
    "\n",
    "l1 = np.random.random((10,10))\n",
    "print(l1)\n",
    "arr_min = l1.min()\n",
    "arr_max = l1.max()\n",
    "print('Minimum',arr_min)\n",
    "print('Maximum',arr_max)"
   ]
  },
  {
   "cell_type": "code",
   "execution_count": 15,
   "id": "e0a2467a",
   "metadata": {},
   "outputs": [
    {
     "data": {
      "text/plain": [
       "0.5675511526914035"
      ]
     },
     "execution_count": 15,
     "metadata": {},
     "output_type": "execute_result"
    }
   ],
   "source": [
    "#6. Create a random vector of size 30 and find the mean value.\n",
    "v = np.random.random(30)\n",
    "v.mean()"
   ]
  },
  {
   "cell_type": "code",
   "execution_count": null,
   "id": "1e8d2c90",
   "metadata": {},
   "outputs": [],
   "source": []
  }
 ],
 "metadata": {
  "kernelspec": {
   "display_name": "Python 3",
   "language": "python",
   "name": "python3"
  },
  "language_info": {
   "codemirror_mode": {
    "name": "ipython",
    "version": 3
   },
   "file_extension": ".py",
   "mimetype": "text/x-python",
   "name": "python",
   "nbconvert_exporter": "python",
   "pygments_lexer": "ipython3",
   "version": "3.6.4"
  }
 },
 "nbformat": 4,
 "nbformat_minor": 5
}
