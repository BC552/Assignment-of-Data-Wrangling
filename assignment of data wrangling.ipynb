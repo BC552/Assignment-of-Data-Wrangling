{
 "cells": [
  {
   "cell_type": "code",
   "execution_count": 18,
   "id": "a51e97b8",
   "metadata": {},
   "outputs": [],
   "source": [
    "import numpy as np\n"
   ]
  },
  {
   "cell_type": "code",
   "execution_count": 6,
   "id": "5a86f45c",
   "metadata": {},
   "outputs": [
    {
     "data": {
      "text/plain": [
       "array([0., 0., 0., 0., 1., 0., 0., 0., 0., 0.])"
      ]
     },
     "execution_count": 6,
     "metadata": {},
     "output_type": "execute_result"
    }
   ],
   "source": [
    "#1. Create a null vector of size 10 but the fifth value which is 1.\n",
    "x = np.zeros(10)\n",
    "x[4] = 1\n",
    "x"
   ]
  },
  {
   "cell_type": "code",
   "execution_count": 5,
   "id": "ea6cdfa6",
   "metadata": {},
   "outputs": [
    {
     "data": {
      "text/plain": [
       "array([10, 11, 12, 13, 14, 15, 16, 17, 18, 19, 20, 21, 22, 23, 24, 25, 26,\n",
       "       27, 28, 29, 30, 31, 32, 33, 34, 35, 36, 37, 38, 39, 40, 41, 42, 43,\n",
       "       44, 45, 46, 47, 48, 49])"
      ]
     },
     "execution_count": 5,
     "metadata": {},
     "output_type": "execute_result"
    }
   ],
   "source": [
    "#2. Create a vector with values ranging from 10 to 49.\n",
    "\n",
    "a = np.arange(10,50)\n",
    "a"
   ]
  },
  {
   "cell_type": "code",
   "execution_count": 7,
   "id": "53beabc2",
   "metadata": {},
   "outputs": [
    {
     "data": {
      "text/plain": [
       "array([[0, 1, 2],\n",
       "       [3, 4, 5],\n",
       "       [6, 7, 8]])"
      ]
     },
     "execution_count": 7,
     "metadata": {},
     "output_type": "execute_result"
    }
   ],
   "source": [
    "#3. Create a 3x3 matrix with values ranging from 0 to 8\n",
    "\n",
    "b = np.arange(0,9).reshape(3,3)\n",
    "b"
   ]
  },
  {
   "cell_type": "code",
   "execution_count": 10,
   "id": "8dce2d05",
   "metadata": {},
   "outputs": [
    {
     "data": {
      "text/plain": [
       "(array([0, 1, 4], dtype=int64),)"
      ]
     },
     "execution_count": 10,
     "metadata": {},
     "output_type": "execute_result"
    }
   ],
   "source": [
    "#4. Find indices of non-zero elements from [1,2,0,0,4,0]\n",
    "\n",
    "l = [1,2,0,0,4,0]\n",
    "c = np.nonzero(l)\n",
    "c"
   ]
  },
  {
   "cell_type": "code",
   "execution_count": 24,
   "id": "45306813",
   "metadata": {},
   "outputs": [
    {
     "name": "stdout",
     "output_type": "stream",
     "text": [
      "[[0.9357629  0.32546402 0.40722189 0.15163139 0.66689569 0.03443403\n",
      "  0.708725   0.07773824 0.97689485 0.75252059]\n",
      " [0.76722056 0.4950576  0.17267833 0.09682312 0.73313302 0.50130155\n",
      "  0.87961457 0.0221145  0.88291459 0.77340669]\n",
      " [0.38795043 0.0580059  0.54418159 0.60728651 0.73699776 0.22281373\n",
      "  0.24745672 0.547328   0.98333894 0.63169294]\n",
      " [0.24629269 0.35230065 0.9680643  0.16961398 0.50365138 0.65262853\n",
      "  0.73534197 0.98931202 0.82132985 0.55637726]\n",
      " [0.47187203 0.70171577 0.74687427 0.95821816 0.6011028  0.32775754\n",
      "  0.94974235 0.44017518 0.05077964 0.71466655]\n",
      " [0.80809764 0.83395168 0.74323406 0.99949022 0.56174321 0.92434719\n",
      "  0.15251115 0.19530627 0.67192053 0.57171001]\n",
      " [0.79095347 0.57077701 0.94407839 0.11485084 0.33213175 0.3427421\n",
      "  0.99201381 0.78388016 0.68843575 0.37086261]\n",
      " [0.17951071 0.79882193 0.60980444 0.98876572 0.15389673 0.47929527\n",
      "  0.85007609 0.50990424 0.77294755 0.67471394]\n",
      " [0.14217174 0.30617752 0.45332301 0.45945609 0.44508387 0.69559573\n",
      "  0.25731103 0.6630566  0.78535375 0.24644522]\n",
      " [0.54084473 0.96427292 0.99558599 0.20251475 0.64304572 0.45041979\n",
      "  0.08456364 0.69196253 0.18948742 0.73255138]]\n",
      "Minimum 0.022114498509661407\n",
      "Maximum 0.9994902230328497\n"
     ]
    }
   ],
   "source": [
    "#5. Create a 10x10 array with random values and find the minimum and maximum values.\n",
    "\n",
    "l1 = np.random.random((10,10))\n",
    "print(l1)\n",
    "arr_min = l1.min()\n",
    "arr_max = l1.max()\n",
    "print('Minimum',arr_min)\n",
    "print('Maximum',arr_max)"
   ]
  },
  {
   "cell_type": "code",
   "execution_count": 26,
   "id": "e0a2467a",
   "metadata": {},
   "outputs": [
    {
     "data": {
      "text/plain": [
       "array([ 0,  1,  2,  3,  4,  5,  6,  7,  8,  9, 10, 11, 12, 13, 14, 15, 16,\n",
       "       17, 18, 19, 20, 21, 22, 23, 24, 25, 26, 27, 28, 29, 30])"
      ]
     },
     "execution_count": 26,
     "metadata": {},
     "output_type": "execute_result"
    }
   ],
   "source": [
    "#6. Create a random vector of size 30 and find the mean value.\n",
    "\n",
    "v = np.arange(0,31)\n",
    "v"
   ]
  },
  {
   "cell_type": "code",
   "execution_count": null,
   "id": "51040770",
   "metadata": {},
   "outputs": [],
   "source": []
  }
 ],
 "metadata": {
  "kernelspec": {
   "display_name": "Python 3",
   "language": "python",
   "name": "python3"
  },
  "language_info": {
   "codemirror_mode": {
    "name": "ipython",
    "version": 3
   },
   "file_extension": ".py",
   "mimetype": "text/x-python",
   "name": "python",
   "nbconvert_exporter": "python",
   "pygments_lexer": "ipython3",
   "version": "3.6.4"
  }
 },
 "nbformat": 4,
 "nbformat_minor": 5
}
